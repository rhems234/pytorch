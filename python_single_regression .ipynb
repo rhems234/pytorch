{
 "cells": [
  {
   "cell_type": "code",
   "execution_count": null,
   "metadata": {},
   "outputs": [],
   "source": [
    "import numpy as np"
   ]
  },
  {
   "cell_type": "code",
   "execution_count": null,
   "metadata": {},
   "outputs": [],
   "source": [
    "x_data=np.array([[1,1],[2,2],[3,3],[4,4],[5,5]]).reshape(5,2)\n",
    "t_data=np.array([4,5,8,9,11]).reshape(5,1)  # y=wx+b w=2, b=1"
   ]
  },
  {
   "cell_type": "code",
   "execution_count": null,
   "metadata": {},
   "outputs": [],
   "source": [
    "w=np.random.rand(3,1)\n",
    "b=np.random.rand(1)\n",
    "print(w, b)"
   ]
  },
  {
   "cell_type": "code",
   "execution_count": null,
   "metadata": {},
   "outputs": [],
   "source": [
    "def loss_func(x, t):\n",
    "    y=np.dot(x,w)\n",
    "\n",
    "    return (np.sum((t-y)**2)) / (len(x))"
   ]
  },
  {
   "cell_type": "code",
   "execution_count": null,
   "metadata": {},
   "outputs": [],
   "source": [
    "def numerical_derivative(f,x):\n",
    "    delat_x=1e-4\n",
    "    grad=np.zeros_like(x)\n",
    "    \n",
    "    it=np.nditer(x, flags=['multi_index'], op_flags=['readwrite'])\n",
    "\n",
    "    while not it.finished:\n",
    "        idx=it.multi_index\n",
    "        tmp_val=x[idx]\n",
    "        x[idx]=float(tmp_val)+delat_x\n",
    "        fx1=f(x) #f(x+delta_x)\n",
    "\n",
    "        x[idx]=float(tmp_val)-delat_x\n",
    "        fx2=f(x) #f(x+delta_x)\n",
    "        grad[idx]=(fx1-fx2)/(2*delat_x)\n",
    "\n",
    "        x[idx]=tmp_val\n",
    "        it.iternext()\n",
    "    return grad"
   ]
  },
  {
   "cell_type": "code",
   "execution_count": null,
   "metadata": {},
   "outputs": [],
   "source": [
    "def predict(x):\n",
    "    y=np.dot(x, w)+b\n",
    "    return y"
   ]
  },
  {
   "cell_type": "code",
   "execution_count": null,
   "metadata": {},
   "outputs": [],
   "source": [
    "learning_rate=1e-6\n",
    "f=lambda x: loss_func(x_data, t_data)\n",
    "print(\"Initial error value=\", loss_func(x_data, t_data), \"Initial w = \", w, \"b = \", b)\n",
    "\n",
    "for step in range(20001):\n",
    "    w = learning_rate*numerical_derivative(f,w)\n",
    "    b = learning_rate*numerical_derivative(f,b)\n",
    "\n",
    "    if step % 400 == 0 :\n",
    "        print(\"step = \", step, \"error value = \", loss_func(x_data, t_data), \"w = \", w, \"b = \", b)"
   ]
  },
  {
   "cell_type": "code",
   "execution_count": null,
   "metadata": {},
   "outputs": [],
   "source": [
    "predict(np.array([10,20]))"
   ]
  },
  {
   "cell_type": "code",
   "execution_count": null,
   "metadata": {},
   "outputs": [],
   "source": []
  }
 ],
 "metadata": {
  "kernelspec": {
   "display_name": "base",
   "language": "python",
   "name": "python3"
  },
  "language_info": {
   "codemirror_mode": {
    "name": "ipython",
    "version": 3
   },
   "file_extension": ".py",
   "mimetype": "text/x-python",
   "name": "python",
   "nbconvert_exporter": "python",
   "pygments_lexer": "ipython3",
   "version": "3.10.9"
  },
  "orig_nbformat": 4
 },
 "nbformat": 4,
 "nbformat_minor": 2
}

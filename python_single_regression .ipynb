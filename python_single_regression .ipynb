{
 "cells": [
  {
   "cell_type": "code",
   "execution_count": 31,
   "metadata": {},
   "outputs": [],
   "source": [
    "import numpy as np"
   ]
  },
  {
   "cell_type": "code",
   "execution_count": 32,
   "metadata": {},
   "outputs": [],
   "source": [
    "x_data=np.array([[1,2],[2,3],[3,4],[4,5],[5,6]]).reshape(5,2)\n",
    "t_data=np.array([4,5,8,9,11]).reshape(5,1)  # y=wx+b w=2, b=1"
   ]
  },
  {
   "cell_type": "code",
   "execution_count": 33,
   "metadata": {},
   "outputs": [
    {
     "name": "stdout",
     "output_type": "stream",
     "text": [
      "[[0.64745322]\n",
      " [0.79096628]] [0.32676089]\n"
     ]
    }
   ],
   "source": [
    "w=np.random.rand(2,1)\n",
    "b=np.random.rand(1)\n",
    "print(w, b)"
   ]
  },
  {
   "cell_type": "code",
   "execution_count": 34,
   "metadata": {},
   "outputs": [],
   "source": [
    "def loss_func(x, t):\n",
    "    y=np.dot(x,w)+b\n",
    "\n",
    "    return (np.sum((t-y)**2)) / (len(x))"
   ]
  },
  {
   "cell_type": "code",
   "execution_count": 35,
   "metadata": {},
   "outputs": [],
   "source": [
    "def numerical_derivative(f,x):\n",
    "    delat_x=1e-4\n",
    "    grad=np.zeros_like(x)\n",
    "    \n",
    "    it=np.nditer(x, flags=['multi_index'], op_flags=['readwrite'])\n",
    "\n",
    "    while not it.finished:\n",
    "        idx=it.multi_index\n",
    "        tmp_val=x[idx]\n",
    "        x[idx]=float(tmp_val)+delat_x\n",
    "        fx1=f(x) #f(x+delta_x)\n",
    "\n",
    "        x[idx]=float(tmp_val)-delat_x\n",
    "        fx2=f(x) #f(x+delta_x)\n",
    "        grad[idx]=(fx1-fx2)/(2*delat_x)\n",
    "\n",
    "        x[idx]=tmp_val\n",
    "        it.iternext()\n",
    "    return grad"
   ]
  },
  {
   "cell_type": "code",
   "execution_count": 36,
   "metadata": {},
   "outputs": [],
   "source": [
    "def predict(x):\n",
    "    y=np.dot(x, w)+b\n",
    "    return y"
   ]
  },
  {
   "cell_type": "code",
   "execution_count": 37,
   "metadata": {},
   "outputs": [
    {
     "name": "stdout",
     "output_type": "stream",
     "text": [
      "Initial error value= 4.290626184464314 Initial w =  [[0.64745322]\n",
      " [0.79096628]] b =  [0.32676089]\n",
      "step =  0 error value =  0.9141267484034659 w =  [[0.7799373 ]\n",
      " [0.96279065]] b =  [0.34440618]\n",
      "step =  400 error value =  0.16220151244095976 w =  [[0.64113545]\n",
      " [1.18984221]] b =  [0.70042357]\n",
      "step =  800 error value =  0.16008437496211111 w =  [[0.59546941]\n",
      " [1.21059509]] b =  [0.76792224]\n",
      "step =  1200 error value =  0.16000323374699063 w =  [[0.58652936]\n",
      " [1.21465788]] b =  [0.78113645]\n",
      "step =  1600 error value =  0.16000012393628799 w =  [[0.58477917]\n",
      " [1.21545326]] b =  [0.7837234]\n",
      "step =  2000 error value =  0.16000000474997092 w =  [[0.58443654]\n",
      " [1.21560897]] b =  [0.78422985]\n",
      "step =  2400 error value =  0.16000000018204688 w =  [[0.58436946]\n",
      " [1.21563945]] b =  [0.78432899]\n",
      "step =  2800 error value =  0.1600000000069771 w =  [[0.58435633]\n",
      " [1.21564542]] b =  [0.7843484]\n",
      "step =  3200 error value =  0.16000000000026743 w =  [[0.58435375]\n",
      " [1.21564659]] b =  [0.7843522]\n",
      "step =  3600 error value =  0.16000000000001022 w =  [[0.58435325]\n",
      " [1.21564682]] b =  [0.78435295]\n",
      "step =  4000 error value =  0.1600000000000004 w =  [[0.58435315]\n",
      " [1.21564686]] b =  [0.78435309]\n",
      "step =  4400 error value =  0.15999999999999995 w =  [[0.58435313]\n",
      " [1.21564687]] b =  [0.78435312]\n",
      "step =  4800 error value =  0.1600000000000001 w =  [[0.58435313]\n",
      " [1.21564687]] b =  [0.78435313]\n",
      "step =  5200 error value =  0.16000000000000006 w =  [[0.58435313]\n",
      " [1.21564687]] b =  [0.78435313]\n",
      "step =  5600 error value =  0.16000000000000006 w =  [[0.58435313]\n",
      " [1.21564687]] b =  [0.78435313]\n",
      "step =  6000 error value =  0.15999999999999992 w =  [[0.58435313]\n",
      " [1.21564687]] b =  [0.78435313]\n",
      "step =  6400 error value =  0.16000000000000006 w =  [[0.58435313]\n",
      " [1.21564687]] b =  [0.78435313]\n",
      "step =  6800 error value =  0.16000000000000003 w =  [[0.58435313]\n",
      " [1.21564687]] b =  [0.78435313]\n",
      "step =  7200 error value =  0.15999999999999998 w =  [[0.58435313]\n",
      " [1.21564687]] b =  [0.78435313]\n",
      "step =  7600 error value =  0.16 w =  [[0.58435313]\n",
      " [1.21564687]] b =  [0.78435313]\n",
      "step =  8000 error value =  0.15999999999999998 w =  [[0.58435313]\n",
      " [1.21564687]] b =  [0.78435313]\n",
      "step =  8400 error value =  0.16000000000000023 w =  [[0.58435313]\n",
      " [1.21564687]] b =  [0.78435313]\n",
      "step =  8800 error value =  0.1600000000000001 w =  [[0.58435313]\n",
      " [1.21564687]] b =  [0.78435313]\n",
      "step =  9200 error value =  0.1600000000000001 w =  [[0.58435313]\n",
      " [1.21564687]] b =  [0.78435313]\n",
      "step =  9600 error value =  0.16 w =  [[0.58435313]\n",
      " [1.21564687]] b =  [0.78435313]\n",
      "step =  10000 error value =  0.15999999999999998 w =  [[0.58435313]\n",
      " [1.21564687]] b =  [0.78435313]\n",
      "step =  10400 error value =  0.16000000000000023 w =  [[0.58435313]\n",
      " [1.21564687]] b =  [0.78435313]\n",
      "step =  10800 error value =  0.1600000000000001 w =  [[0.58435313]\n",
      " [1.21564687]] b =  [0.78435313]\n",
      "step =  11200 error value =  0.1600000000000001 w =  [[0.58435313]\n",
      " [1.21564687]] b =  [0.78435313]\n",
      "step =  11600 error value =  0.16 w =  [[0.58435313]\n",
      " [1.21564687]] b =  [0.78435313]\n",
      "step =  12000 error value =  0.15999999999999998 w =  [[0.58435313]\n",
      " [1.21564687]] b =  [0.78435313]\n",
      "step =  12400 error value =  0.16000000000000023 w =  [[0.58435313]\n",
      " [1.21564687]] b =  [0.78435313]\n",
      "step =  12800 error value =  0.1600000000000001 w =  [[0.58435313]\n",
      " [1.21564687]] b =  [0.78435313]\n",
      "step =  13200 error value =  0.1600000000000001 w =  [[0.58435313]\n",
      " [1.21564687]] b =  [0.78435313]\n",
      "step =  13600 error value =  0.16 w =  [[0.58435313]\n",
      " [1.21564687]] b =  [0.78435313]\n",
      "step =  14000 error value =  0.15999999999999998 w =  [[0.58435313]\n",
      " [1.21564687]] b =  [0.78435313]\n",
      "step =  14400 error value =  0.16000000000000023 w =  [[0.58435313]\n",
      " [1.21564687]] b =  [0.78435313]\n",
      "step =  14800 error value =  0.1600000000000001 w =  [[0.58435313]\n",
      " [1.21564687]] b =  [0.78435313]\n",
      "step =  15200 error value =  0.1600000000000001 w =  [[0.58435313]\n",
      " [1.21564687]] b =  [0.78435313]\n",
      "step =  15600 error value =  0.16 w =  [[0.58435313]\n",
      " [1.21564687]] b =  [0.78435313]\n",
      "step =  16000 error value =  0.15999999999999998 w =  [[0.58435313]\n",
      " [1.21564687]] b =  [0.78435313]\n",
      "step =  16400 error value =  0.16000000000000023 w =  [[0.58435313]\n",
      " [1.21564687]] b =  [0.78435313]\n",
      "step =  16800 error value =  0.1600000000000001 w =  [[0.58435313]\n",
      " [1.21564687]] b =  [0.78435313]\n",
      "step =  17200 error value =  0.1600000000000001 w =  [[0.58435313]\n",
      " [1.21564687]] b =  [0.78435313]\n",
      "step =  17600 error value =  0.16 w =  [[0.58435313]\n",
      " [1.21564687]] b =  [0.78435313]\n",
      "step =  18000 error value =  0.15999999999999998 w =  [[0.58435313]\n",
      " [1.21564687]] b =  [0.78435313]\n",
      "step =  18400 error value =  0.16000000000000023 w =  [[0.58435313]\n",
      " [1.21564687]] b =  [0.78435313]\n",
      "step =  18800 error value =  0.1600000000000001 w =  [[0.58435313]\n",
      " [1.21564687]] b =  [0.78435313]\n",
      "step =  19200 error value =  0.1600000000000001 w =  [[0.58435313]\n",
      " [1.21564687]] b =  [0.78435313]\n",
      "step =  19600 error value =  0.16 w =  [[0.58435313]\n",
      " [1.21564687]] b =  [0.78435313]\n",
      "step =  20000 error value =  0.15999999999999998 w =  [[0.58435313]\n",
      " [1.21564687]] b =  [0.78435313]\n"
     ]
    }
   ],
   "source": [
    "learning_rate=1e-2\n",
    "f=lambda x: loss_func(x_data, t_data)\n",
    "print(\"Initial error value=\", loss_func(x_data, t_data), \"Initial w = \",w, \"b = \",b)\n",
    "\n",
    "for step in range(20001):\n",
    "    w -= learning_rate*numerical_derivative(f,w)\n",
    "    b -= learning_rate*numerical_derivative(f,b)\n",
    "\n",
    "    if step % 400 == 0 :\n",
    "        print(\"step = \", step, \"error value = \", loss_func(x_data, t_data), \"w = \", w, \"b = \", b)"
   ]
  },
  {
   "cell_type": "code",
   "execution_count": 38,
   "metadata": {},
   "outputs": [
    {
     "data": {
      "text/plain": [
       "array([30.94082184])"
      ]
     },
     "execution_count": 38,
     "metadata": {},
     "output_type": "execute_result"
    }
   ],
   "source": [
    "predict(np.array([10,20]))"
   ]
  },
  {
   "cell_type": "code",
   "execution_count": null,
   "metadata": {},
   "outputs": [],
   "source": []
  }
 ],
 "metadata": {
  "kernelspec": {
   "display_name": "base",
   "language": "python",
   "name": "python3"
  },
  "language_info": {
   "codemirror_mode": {
    "name": "ipython",
    "version": 3
   },
   "file_extension": ".py",
   "mimetype": "text/x-python",
   "name": "python",
   "nbconvert_exporter": "python",
   "pygments_lexer": "ipython3",
   "version": "3.10.9"
  },
  "orig_nbformat": 4
 },
 "nbformat": 4,
 "nbformat_minor": 2
}

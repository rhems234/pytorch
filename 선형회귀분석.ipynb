{
 "cells": [
  {
   "cell_type": "code",
   "execution_count": 33,
   "metadata": {},
   "outputs": [],
   "source": [
    "import numpy as np"
   ]
  },
  {
   "cell_type": "code",
   "execution_count": 34,
   "metadata": {},
   "outputs": [],
   "source": [
    "def myfunc1(x):\n",
    "    return x**2"
   ]
  },
  {
   "cell_type": "code",
   "execution_count": 35,
   "metadata": {},
   "outputs": [],
   "source": [
    "def myfunc2(x):\n",
    "    # 3x**2+2x+1 = 6x+2\n",
    "    return 3*x**2+2*x+1"
   ]
  },
  {
   "cell_type": "code",
   "execution_count": 36,
   "metadata": {},
   "outputs": [],
   "source": [
    "def numerical_derivative(f,x):\n",
    "    # 1*1/10000\n",
    "    delta_x=1e-4\n",
    "    return (f(x+delta_x) - f(x-delta_x)) / (2*delta_x)"
   ]
  },
  {
   "cell_type": "code",
   "execution_count": 37,
   "metadata": {},
   "outputs": [
    {
     "name": "stdout",
     "output_type": "stream",
     "text": [
      "6.000000000012662\n"
     ]
    }
   ],
   "source": [
    "result=numerical_derivative(myfunc1, 3)\n",
    "print(result)"
   ]
  },
  {
   "cell_type": "code",
   "execution_count": 38,
   "metadata": {},
   "outputs": [
    {
     "name": "stdout",
     "output_type": "stream",
     "text": [
      "20.00000000005997\n"
     ]
    }
   ],
   "source": [
    "result2=numerical_derivative(myfunc2, 3)\n",
    "print(result2)"
   ]
  },
  {
   "cell_type": "markdown",
   "metadata": {},
   "source": [
    "2x+3xy+y**3 : x로 미분 : 3+37, \n",
    "y에 대한 미분 : 3x+3y**2"
   ]
  },
  {
   "cell_type": "code",
   "execution_count": 52,
   "metadata": {},
   "outputs": [],
   "source": [
    "def numerical_derivative(f,x):\n",
    "    delat_x=1e-4\n",
    "    grad=np.zeros_like(x)\n",
    "    \n",
    "    it=np.nditer(x, flags=['multi_index'], op_flags=['readwrite'])\n",
    "\n",
    "    while not it.finished:\n",
    "        idx=it.multi_index\n",
    "        tmp_val=x[idx]\n",
    "        x[idx]=float(tmp_val)+delat_x\n",
    "        fx1=f(x) #f(x+delta_x)\n",
    "\n",
    "        x[idx]=float(tmp_val)-delat_x\n",
    "        fx2=f(x) #f(x+delta_x)\n",
    "        grad[idx]=(fx1-fx2)/(2*delat_x)\n",
    "\n",
    "        x[idx]=tmp_val\n",
    "        it.iternext()\n",
    "    return grad\n"
   ]
  },
  {
   "cell_type": "code",
   "execution_count": 40,
   "metadata": {},
   "outputs": [],
   "source": [
    "def func1(input):\n",
    "    x=input[0]\n",
    "    y=input[1]\n",
    "\n",
    "    # 2x + 3xy + y**3\n",
    "    return (2*x + 3*x*y + np.power(y,3))"
   ]
  },
  {
   "cell_type": "code",
   "execution_count": 41,
   "metadata": {},
   "outputs": [
    {
     "name": "stdout",
     "output_type": "stream",
     "text": [
      "x :  [3. 2.]\n",
      "grad :  [0. 0.]\n",
      "idx :  (0,) x[idx] :  3.0\n",
      "grad[idx] :  7.999999999999119\n",
      "grad :  [8. 0.]\n",
      "idx :  (1,) x[idx] :  2.0\n",
      "grad[idx] :  21.000000010040765\n",
      "grad :  [ 8.         21.00000001]\n"
     ]
    },
    {
     "data": {
      "text/plain": [
       "array([ 8.        , 21.00000001])"
      ]
     },
     "execution_count": 41,
     "metadata": {},
     "output_type": "execute_result"
    }
   ],
   "source": [
    "numerical_derivative(func1,np.array([3.0,2.0]))"
   ]
  },
  {
   "cell_type": "code",
   "execution_count": 48,
   "metadata": {},
   "outputs": [
    {
     "name": "stdout",
     "output_type": "stream",
     "text": [
      "x :  [3.]\n",
      "grad :  [0.]\n",
      "idx :  (0,) x[idx] :  3.0\n",
      "grad[idx] :  6.000000000012662\n",
      "grad :  [6.]\n"
     ]
    },
    {
     "data": {
      "text/plain": [
       "array([6.])"
      ]
     },
     "execution_count": 48,
     "metadata": {},
     "output_type": "execute_result"
    }
   ],
   "source": [
    "numerical_derivative(myfunc1,np.array([3.0]))"
   ]
  },
  {
   "cell_type": "code",
   "execution_count": 55,
   "metadata": {},
   "outputs": [],
   "source": [
    "def func2(input):\n",
    "    w=input[0][0]\n",
    "    x=input[0][1]\n",
    "    y=input[1][0]\n",
    "    z=input[1][1]\n",
    "    return(w*x + x*y*z + 3*w + z*np.power(y,2))"
   ]
  },
  {
   "cell_type": "code",
   "execution_count": 56,
   "metadata": {},
   "outputs": [
    {
     "name": "stdout",
     "output_type": "stream",
     "text": [
      "x :  [[1. 2.]\n",
      " [3. 4.]]\n",
      "grad :  [[0. 0.]\n",
      " [0. 0.]]\n",
      "idx :  (0, 0) x[idx] :  1.0\n",
      "grad[idx] :  5.000000000023874\n",
      "grad :  [[5. 0.]\n",
      " [0. 0.]]\n",
      "idx :  (0, 1) x[idx] :  2.0\n",
      "grad[idx] :  13.00000000000523\n",
      "grad :  [[ 5. 13.]\n",
      " [ 0.  0.]]\n",
      "idx :  (1, 0) x[idx] :  3.0\n",
      "grad[idx] :  32.00000000006753\n",
      "grad :  [[ 5. 13.]\n",
      " [32.  0.]]\n",
      "idx :  (1, 1) x[idx] :  4.0\n",
      "grad[idx] :  15.000000000000568\n",
      "grad :  [[ 5. 13.]\n",
      " [32. 15.]]\n"
     ]
    },
    {
     "data": {
      "text/plain": [
       "array([[ 5., 13.],\n",
       "       [32., 15.]])"
      ]
     },
     "execution_count": 56,
     "metadata": {},
     "output_type": "execute_result"
    }
   ],
   "source": [
    "numerical_derivative(func2, np.array([[1.0, 2.0], [3.0, 4.0]]))"
   ]
  }
 ],
 "metadata": {
  "kernelspec": {
   "display_name": "base",
   "language": "python",
   "name": "python3"
  },
  "language_info": {
   "codemirror_mode": {
    "name": "ipython",
    "version": 3
   },
   "file_extension": ".py",
   "mimetype": "text/x-python",
   "name": "python",
   "nbconvert_exporter": "python",
   "pygments_lexer": "ipython3",
   "version": "3.10.9"
  },
  "orig_nbformat": 4
 },
 "nbformat": 4,
 "nbformat_minor": 2
}

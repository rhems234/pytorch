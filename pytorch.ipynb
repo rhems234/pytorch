{
 "cells": [
  {
   "cell_type": "code",
   "execution_count": 149,
   "metadata": {},
   "outputs": [],
   "source": [
    "import torch"
   ]
  },
  {
   "cell_type": "code",
   "execution_count": 150,
   "metadata": {},
   "outputs": [
    {
     "data": {
      "text/plain": [
       "tensor([[1, 2],\n",
       "        [3, 4]])"
      ]
     },
     "execution_count": 150,
     "metadata": {},
     "output_type": "execute_result"
    }
   ],
   "source": [
    "torch.tensor([[1,2],[3,4]])"
   ]
  },
  {
   "cell_type": "code",
   "execution_count": 151,
   "metadata": {},
   "outputs": [],
   "source": [
    "x=torch.FloatTensor([[1,2,3],[4,5,6]])"
   ]
  },
  {
   "cell_type": "code",
   "execution_count": 152,
   "metadata": {},
   "outputs": [
    {
     "name": "stdout",
     "output_type": "stream",
     "text": [
      "tensor([[1, 2],\n",
      "        [3, 4]])\n",
      "tensor([[1., 2.],\n",
      "        [3., 4.]], dtype=torch.float64)\n"
     ]
    }
   ],
   "source": [
    "print(torch.tensor([[1,2],[3,4]]))\n",
    "#print(torch.tensor([[1,2],[3,4]]), device=\"cuda:0\")\n",
    "print(torch.tensor([[1,2],[3,4]], dtype=torch.float64))"
   ]
  },
  {
   "cell_type": "code",
   "execution_count": 153,
   "metadata": {},
   "outputs": [
    {
     "name": "stdout",
     "output_type": "stream",
     "text": [
      "tensor([[1., 2.],\n",
      "        [3., 4.]])\n",
      "tensor([[1, 2],\n",
      "        [3, 4]])\n",
      "tensor([[1, 2],\n",
      "        [3, 4]], dtype=torch.uint8)\n"
     ]
    }
   ],
   "source": [
    "ft=torch.FloatTensor([[1,2],[3,4]])\n",
    "lt=torch.LongTensor([[1,2],[3,4]])\n",
    "bt=torch.ByteTensor([[1,2],[3,4]])\n",
    "print(ft)\n",
    "print(lt)\n",
    "print(bt)"
   ]
  },
  {
   "cell_type": "code",
   "execution_count": 154,
   "metadata": {},
   "outputs": [
    {
     "name": "stdout",
     "output_type": "stream",
     "text": [
      "[[0 1 2]\n",
      " [3 4 5]\n",
      " [6 7 8]] <class 'numpy.ndarray'>\n"
     ]
    }
   ],
   "source": [
    "import numpy as np\n",
    "x=np.arange(0,9).reshape(3,3)\n",
    "print(x, type(x))"
   ]
  },
  {
   "cell_type": "code",
   "execution_count": 155,
   "metadata": {},
   "outputs": [
    {
     "name": "stdout",
     "output_type": "stream",
     "text": [
      "tensor([[0, 1, 2],\n",
      "        [3, 4, 5],\n",
      "        [6, 7, 8]], dtype=torch.int32) <class 'torch.Tensor'>\n"
     ]
    }
   ],
   "source": [
    "tx=torch.from_numpy(x)\n",
    "print(tx, type(tx))"
   ]
  },
  {
   "cell_type": "code",
   "execution_count": 156,
   "metadata": {},
   "outputs": [
    {
     "name": "stdout",
     "output_type": "stream",
     "text": [
      "[[0 1 2]\n",
      " [3 4 5]\n",
      " [6 7 8]] <class 'numpy.ndarray'>\n"
     ]
    }
   ],
   "source": [
    "nx=tx.numpy()\n",
    "print(nx, type(nx))"
   ]
  },
  {
   "cell_type": "code",
   "execution_count": 157,
   "metadata": {},
   "outputs": [
    {
     "name": "stdout",
     "output_type": "stream",
     "text": [
      "tensor([[0., 1., 2.],\n",
      "        [3., 4., 5.],\n",
      "        [6., 7., 8.]]) <class 'torch.Tensor'>\n",
      "tensor([[0, 1, 2],\n",
      "        [3, 4, 5],\n",
      "        [6, 7, 8]]) <class 'torch.Tensor'>\n",
      "tensor([[0, 1, 2],\n",
      "        [3, 4, 5],\n",
      "        [6, 7, 8]], dtype=torch.uint8)\n"
     ]
    }
   ],
   "source": [
    "ft=tx.float()\n",
    "print(ft, type(ft))\n",
    "lt=ft.long()\n",
    "print(lt, type(lt))\n",
    "bt=ft.byte()\n",
    "print(bt)"
   ]
  },
  {
   "cell_type": "code",
   "execution_count": 158,
   "metadata": {},
   "outputs": [
    {
     "data": {
      "text/plain": [
       "tensor([[[ 1,  2],\n",
       "         [ 3,  4]],\n",
       "\n",
       "        [[ 5,  6],\n",
       "         [ 7,  8]],\n",
       "\n",
       "        [[ 9, 10],\n",
       "         [11, 12]]], dtype=torch.int32)"
      ]
     },
     "execution_count": 158,
     "metadata": {},
     "output_type": "execute_result"
    }
   ],
   "source": [
    "na=np.arange(1,13).reshape(3,2,2)\n",
    "t=torch.from_numpy(na)\n",
    "t"
   ]
  },
  {
   "cell_type": "code",
   "execution_count": 159,
   "metadata": {},
   "outputs": [
    {
     "name": "stdout",
     "output_type": "stream",
     "text": [
      "torch.Size([2, 3, 2])\n",
      "torch.Size([2, 3, 2])\n",
      "torch.Size([3, 2])\n"
     ]
    }
   ],
   "source": [
    "a=np.arange(12).reshape(2,3,-1)\n",
    "b=np.arange(2,14).reshape(2,3,-1)\n",
    "c=np.arange(10,16).reshape(3,2)\n",
    "ta=torch.from_numpy(a)\n",
    "tb=torch.from_numpy(b)\n",
    "tc=torch.from_numpy(c)\n",
    "#print(ta)\n",
    "print(ta.size())\n",
    "print(tb.size())\n",
    "print(tc.size())"
   ]
  },
  {
   "cell_type": "code",
   "execution_count": 160,
   "metadata": {},
   "outputs": [
    {
     "name": "stdout",
     "output_type": "stream",
     "text": [
      "tensor([[[10, 12],\n",
      "         [14, 16],\n",
      "         [18, 20]],\n",
      "\n",
      "        [[16, 18],\n",
      "         [20, 22],\n",
      "         [24, 26]]], dtype=torch.int32)\n"
     ]
    }
   ],
   "source": [
    "print(ta+tc)"
   ]
  },
  {
   "cell_type": "code",
   "execution_count": 161,
   "metadata": {},
   "outputs": [
    {
     "data": {
      "text/plain": [
       "tensor([ 1,  2,  3,  4,  5,  6,  7,  8,  9, 10, 11, 12])"
      ]
     },
     "execution_count": 161,
     "metadata": {},
     "output_type": "execute_result"
    }
   ],
   "source": [
    "x=torch.arange(1,13)\n",
    "x"
   ]
  },
  {
   "cell_type": "code",
   "execution_count": 162,
   "metadata": {},
   "outputs": [
    {
     "name": "stdout",
     "output_type": "stream",
     "text": [
      "tensor([[ 1,  2,  3,  4],\n",
      "        [ 5,  6,  7,  8],\n",
      "        [ 9, 10, 11, 12]])\n",
      "tensor([[ 1,  2,  3,  4],\n",
      "        [ 5,  6,  7,  8],\n",
      "        [ 9, 10, 11, 12]])\n",
      "tensor([[ 1,  2,  3],\n",
      "        [ 4,  5,  6],\n",
      "        [ 7,  8,  9],\n",
      "        [10, 11, 12]])\n",
      "tensor([[[ 1,  2],\n",
      "         [ 3,  4]],\n",
      "\n",
      "        [[ 5,  6],\n",
      "         [ 7,  8]],\n",
      "\n",
      "        [[ 9, 10],\n",
      "         [11, 12]]])\n"
     ]
    }
   ],
   "source": [
    "print(x.view(3,4))\n",
    "print(x.reshape(3,4))\n",
    "print(x.view(4,3))\n",
    "print(x.view(3,2,2))"
   ]
  },
  {
   "cell_type": "code",
   "execution_count": 163,
   "metadata": {},
   "outputs": [
    {
     "name": "stdout",
     "output_type": "stream",
     "text": [
      "tensor([[[ 1,  2,  3,  4]],\n",
      "\n",
      "        [[ 5,  6,  7,  8]],\n",
      "\n",
      "        [[ 9, 10, 11, 12]]])\n"
     ]
    }
   ],
   "source": [
    "x1=x.view(3,1,4)\n",
    "print(x1)"
   ]
  },
  {
   "cell_type": "code",
   "execution_count": 164,
   "metadata": {},
   "outputs": [
    {
     "name": "stdout",
     "output_type": "stream",
     "text": [
      "tensor([[ 1,  2,  3,  4],\n",
      "        [ 5,  6,  7,  8],\n",
      "        [ 9, 10, 11, 12]])\n"
     ]
    }
   ],
   "source": [
    "print(x1.squeeze())"
   ]
  },
  {
   "cell_type": "code",
   "execution_count": 165,
   "metadata": {},
   "outputs": [
    {
     "name": "stdout",
     "output_type": "stream",
     "text": [
      "tensor([[[[ 1,  2,  3,  4]]],\n",
      "\n",
      "\n",
      "        [[[ 5,  6,  7,  8]]],\n",
      "\n",
      "\n",
      "        [[[ 9, 10, 11, 12]]]])\n",
      "torch.Size([3, 1, 4])\n"
     ]
    }
   ],
   "source": [
    "print(x1.unsqueeze(1))\n",
    "print(x1.size())"
   ]
  },
  {
   "cell_type": "code",
   "execution_count": 166,
   "metadata": {},
   "outputs": [
    {
     "data": {
      "text/plain": [
       "tensor([[[ 1,  2],\n",
       "         [ 3,  4],\n",
       "         [ 5,  6]],\n",
       "\n",
       "        [[ 7,  8],\n",
       "         [ 9, 10],\n",
       "         [11, 12]]])"
      ]
     },
     "execution_count": 166,
     "metadata": {},
     "output_type": "execute_result"
    }
   ],
   "source": [
    "x2=x.view(2,3,2)\n",
    "x2"
   ]
  },
  {
   "cell_type": "code",
   "execution_count": 167,
   "metadata": {},
   "outputs": [
    {
     "name": "stdout",
     "output_type": "stream",
     "text": [
      "tensor([[ 2,  4,  6],\n",
      "        [ 8, 10, 12]])\n"
     ]
    }
   ],
   "source": [
    "print(x2[:,:,1])"
   ]
  },
  {
   "cell_type": "code",
   "execution_count": 168,
   "metadata": {},
   "outputs": [
    {
     "name": "stdout",
     "output_type": "stream",
     "text": [
      "torch.Size([4, 3])\n",
      "torch.Size([4, 3])\n",
      "torch.Size([4, 3])\n",
      "torch.Size([4, 1])\n"
     ]
    }
   ],
   "source": [
    "x=torch.FloatTensor(4,10)\n",
    "splits=x.split(3, dim=1)\n",
    "for s in splits:\n",
    "    print(s.size())"
   ]
  },
  {
   "cell_type": "code",
   "execution_count": 169,
   "metadata": {},
   "outputs": [
    {
     "data": {
      "text/plain": [
       "tensor([[[ 1,  2],\n",
       "         [ 3,  4]],\n",
       "\n",
       "        [[ 5,  6],\n",
       "         [ 7,  8]],\n",
       "\n",
       "        [[ 9, 10],\n",
       "         [11, 12]]])"
      ]
     },
     "execution_count": 169,
     "metadata": {},
     "output_type": "execute_result"
    }
   ],
   "source": [
    "x=torch.arange(1,13).view(3,2,2)\n",
    "x"
   ]
  },
  {
   "cell_type": "code",
   "execution_count": 170,
   "metadata": {},
   "outputs": [
    {
     "data": {
      "text/plain": [
       "tensor([[[ 1],\n",
       "         [ 3]],\n",
       "\n",
       "        [[ 5],\n",
       "         [ 7]],\n",
       "\n",
       "        [[ 9],\n",
       "         [11]]])"
      ]
     },
     "execution_count": 170,
     "metadata": {},
     "output_type": "execute_result"
    }
   ],
   "source": [
    "index=torch.LongTensor([0])\n",
    "y=x.index_select(dim=2, index=index)\n",
    "y"
   ]
  },
  {
   "cell_type": "code",
   "execution_count": 171,
   "metadata": {},
   "outputs": [
    {
     "data": {
      "text/plain": [
       "tensor([[[[ 1,  2],\n",
       "          [ 3,  4],\n",
       "          [ 5,  6],\n",
       "          [ 7,  8]],\n",
       "\n",
       "         [[ 9, 10],\n",
       "          [11, 12],\n",
       "          [13, 14],\n",
       "          [15, 16]]],\n",
       "\n",
       "\n",
       "        [[[17, 18],\n",
       "          [19, 20],\n",
       "          [21, 22],\n",
       "          [23, 24]],\n",
       "\n",
       "         [[25, 26],\n",
       "          [27, 28],\n",
       "          [29, 30],\n",
       "          [31, 32]]],\n",
       "\n",
       "\n",
       "        [[[33, 34],\n",
       "          [35, 36],\n",
       "          [37, 38],\n",
       "          [39, 40]],\n",
       "\n",
       "         [[41, 42],\n",
       "          [43, 44],\n",
       "          [45, 46],\n",
       "          [47, 48]]],\n",
       "\n",
       "\n",
       "        [[[49, 50],\n",
       "          [51, 52],\n",
       "          [53, 54],\n",
       "          [55, 56]],\n",
       "\n",
       "         [[57, 58],\n",
       "          [59, 60],\n",
       "          [61, 62],\n",
       "          [63, 64]]]])"
      ]
     },
     "execution_count": 171,
     "metadata": {},
     "output_type": "execute_result"
    }
   ],
   "source": [
    "x=torch.arange(1,65).view(4,2,4,2)\n",
    "x"
   ]
  },
  {
   "cell_type": "code",
   "execution_count": 172,
   "metadata": {},
   "outputs": [
    {
     "name": "stdout",
     "output_type": "stream",
     "text": [
      "tensor([[1, 2, 3],\n",
      "        [4, 5, 6],\n",
      "        [7, 8, 9]])\n",
      "tensor([[11, 12, 13],\n",
      "        [14, 15, 16],\n",
      "        [17, 18, 19]])\n"
     ]
    }
   ],
   "source": [
    "x=torch.arange(1,10).view(3,3)\n",
    "y=torch.arange(11,20).view(3,3)\n",
    "print(x)\n",
    "print(y)"
   ]
  },
  {
   "cell_type": "code",
   "execution_count": 173,
   "metadata": {},
   "outputs": [
    {
     "data": {
      "text/plain": [
       "tensor([[ 1,  2,  3, 11, 12, 13],\n",
       "        [ 4,  5,  6, 14, 15, 16],\n",
       "        [ 7,  8,  9, 17, 18, 19]])"
      ]
     },
     "execution_count": 173,
     "metadata": {},
     "output_type": "execute_result"
    }
   ],
   "source": [
    "z=torch.cat([x,y], dim=1)\n",
    "z"
   ]
  },
  {
   "cell_type": "code",
   "execution_count": 174,
   "metadata": {},
   "outputs": [
    {
     "name": "stdout",
     "output_type": "stream",
     "text": [
      "tensor([[[ 1,  2,  3],\n",
      "         [11, 12, 13]],\n",
      "\n",
      "        [[ 4,  5,  6],\n",
      "         [14, 15, 16]],\n",
      "\n",
      "        [[ 7,  8,  9],\n",
      "         [17, 18, 19]]])\n"
     ]
    }
   ],
   "source": [
    "z=torch.stack([x,y],dim=1)\n",
    "print(z)"
   ]
  },
  {
   "cell_type": "code",
   "execution_count": 175,
   "metadata": {},
   "outputs": [
    {
     "name": "stdout",
     "output_type": "stream",
     "text": [
      "tensor([[[1, 2, 3],\n",
      "         [4, 5, 6]]])\n",
      "tensor([[[1, 2, 3],\n",
      "         [4, 5, 6]],\n",
      "\n",
      "        [[1, 2, 3],\n",
      "         [4, 5, 6]]])\n"
     ]
    }
   ],
   "source": [
    "x=torch.arange(1,7).view(1,2,3)\n",
    "print(x)\n",
    "y=x.expand(2,2,3)\n",
    "print(y)"
   ]
  },
  {
   "cell_type": "code",
   "execution_count": 176,
   "metadata": {},
   "outputs": [
    {
     "data": {
      "text/plain": [
       "tensor([59, 20, 19, 11, 64, 53, 83, 84, 18, 29, 35, 88, 57,  9, 76, 90,  0, 80,\n",
       "        65, 66, 47, 49, 15, 78, 93, 38,  8, 69, 51,  6, 79, 27, 52, 23, 73, 70,\n",
       "        92, 46, 94, 10, 85, 72, 58, 24, 13, 82, 50, 36, 34, 21,  1, 28, 75, 91,\n",
       "        17, 48, 30, 40, 54, 33, 32,  5, 26, 63, 98, 25, 86, 44, 71, 56, 45, 87,\n",
       "        62, 89, 41, 16,  2, 68, 67, 97, 74, 55, 37, 61,  4, 43, 60, 95, 14,  7,\n",
       "        99, 42, 12, 39,  3, 31, 96, 81, 77, 22])"
      ]
     },
     "execution_count": 176,
     "metadata": {},
     "output_type": "execute_result"
    }
   ],
   "source": [
    "x=torch.randperm(100)\n",
    "x"
   ]
  },
  {
   "cell_type": "code",
   "execution_count": 177,
   "metadata": {},
   "outputs": [
    {
     "data": {
      "text/plain": [
       "tensor([[[19,  8, 22],\n",
       "         [11,  0, 15],\n",
       "         [ 1,  5, 13]],\n",
       "\n",
       "        [[20, 26, 16],\n",
       "         [ 2,  9, 23],\n",
       "         [25, 18,  6]],\n",
       "\n",
       "        [[ 4, 12, 21],\n",
       "         [ 7, 24, 10],\n",
       "         [17,  3, 14]]])"
      ]
     },
     "execution_count": 177,
     "metadata": {},
     "output_type": "execute_result"
    }
   ],
   "source": [
    "x=torch.randperm(3**3).view(3,3,-1)\n",
    "x"
   ]
  },
  {
   "cell_type": "code",
   "execution_count": 178,
   "metadata": {},
   "outputs": [
    {
     "data": {
      "text/plain": [
       "tensor([[2, 2, 2],\n",
       "        [1, 2, 0],\n",
       "        [2, 1, 0]])"
      ]
     },
     "execution_count": 178,
     "metadata": {},
     "output_type": "execute_result"
    }
   ],
   "source": [
    "y=x.argmax(dim=-1)\n",
    "y"
   ]
  },
  {
   "cell_type": "code",
   "execution_count": 179,
   "metadata": {},
   "outputs": [
    {
     "name": "stdout",
     "output_type": "stream",
     "text": [
      "tensor([[[20, 26, 22],\n",
      "         [11, 24, 23],\n",
      "         [25, 18, 14]]])\n",
      "tensor([[[1, 1, 0],\n",
      "         [0, 2, 1],\n",
      "         [1, 1, 2]]])\n"
     ]
    }
   ],
   "source": [
    "value, indices=torch.topk(x, k=1, dim=0)\n",
    "print(value)\n",
    "print(indices)"
   ]
  },
  {
   "cell_type": "code",
   "execution_count": 180,
   "metadata": {},
   "outputs": [
    {
     "data": {
      "text/plain": [
       "tensor([[8, 7, 2],\n",
       "        [0, 1, 3],\n",
       "        [4, 5, 6]])"
      ]
     },
     "execution_count": 180,
     "metadata": {},
     "output_type": "execute_result"
    }
   ],
   "source": [
    "x=torch.randperm(9).view(3,3)\n",
    "x\n"
   ]
  },
  {
   "cell_type": "code",
   "execution_count": 181,
   "metadata": {},
   "outputs": [
    {
     "data": {
      "text/plain": [
       "tensor([[False, False,  True],\n",
       "        [ True,  True,  True],\n",
       "        [False, False, False]])"
      ]
     },
     "execution_count": 181,
     "metadata": {},
     "output_type": "execute_result"
    }
   ],
   "source": [
    "mask=x<4\n",
    "mask"
   ]
  },
  {
   "cell_type": "code",
   "execution_count": 182,
   "metadata": {},
   "outputs": [
    {
     "data": {
      "text/plain": [
       "tensor([[ 8,  7, -1],\n",
       "        [-1, -1, -1],\n",
       "        [ 4,  5,  6]])"
      ]
     },
     "execution_count": 182,
     "metadata": {},
     "output_type": "execute_result"
    }
   ],
   "source": [
    "y=x.masked_fill(mask, value=-1)\n",
    "y"
   ]
  }
 ],
 "metadata": {
  "kernelspec": {
   "display_name": "base",
   "language": "python",
   "name": "python3"
  },
  "language_info": {
   "codemirror_mode": {
    "name": "ipython",
    "version": 3
   },
   "file_extension": ".py",
   "mimetype": "text/x-python",
   "name": "python",
   "nbconvert_exporter": "python",
   "pygments_lexer": "ipython3",
   "version": "3.10.9"
  },
  "orig_nbformat": 4
 },
 "nbformat": 4,
 "nbformat_minor": 2
}

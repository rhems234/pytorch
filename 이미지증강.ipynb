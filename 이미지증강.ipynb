{
 "cells": [
  {
   "cell_type": "code",
   "execution_count": 1,
   "metadata": {},
   "outputs": [],
   "source": [
    "import torch\n",
    "import torch.nn as nn\n",
    "import torchvision.datasets as dsets\n",
    "import torchvision.transforms as transforms\n",
    "from torchvision.datasets import ImageFolder\n",
    "import torch.nn.init\n",
    "from torch.utils.data import DataLoader\n",
    "import torch.optim as optim\n",
    "import matplotlib.pyplot as plt\n",
    "\n",
    "# from google.colab import drive\n",
    "# drive.mount('/content/gdrive')"
   ]
  },
  {
   "cell_type": "code",
   "execution_count": null,
   "metadata": {},
   "outputs": [],
   "source": [
    "def create_loader(transform):\n",
    "    # 이미지 폴더로 부터 데이터 로드\n",
    "    transform_dataset=ImageFolder(root='/content/gdrive/MyDrive/flower_photos', transform=transform)\n",
    "\n",
    "    # 데이터 로더 생성\n",
    "    transform_loader=DataLoader(transform_dataset,\n",
    "                                batch_size=100,\n",
    "                                shuffle=True,\n",
    "                                num_workers=1)\n",
    "    # 이미지, 레이블 생성 실행\n",
    "    transform_images, labels=next(iter(transform_loader))\n",
    "\n",
    "    fig, axes=plt.subplot(3,2)\n",
    "    fig.set_size_inches(4,6)\n",
    "\n",
    "    for idx in range(3):\n",
    "        axes[idx, 0].imshow(original_images[idx].permute(1,2,0))\n",
    "        axes[idx, 0].set_axis_off()\n",
    "        axes[idx, 0].set_title('Original')\n",
    "        axes[idx, 1].imshow(transform_images[idx].permute(1,2,0))\n",
    "        axes[idx, 1].set_axis_off()\n",
    "        axes[idx, 1].set_title('CenterCrop')\n",
    "    fig.tight_layout()\n",
    "    plt.show()"
   ]
  }
 ],
 "metadata": {
  "kernelspec": {
   "display_name": "base",
   "language": "python",
   "name": "python3"
  },
  "language_info": {
   "codemirror_mode": {
    "name": "ipython",
    "version": 3
   },
   "file_extension": ".py",
   "mimetype": "text/x-python",
   "name": "python",
   "nbconvert_exporter": "python",
   "pygments_lexer": "ipython3",
   "version": "3.10.9"
  },
  "orig_nbformat": 4
 },
 "nbformat": 4,
 "nbformat_minor": 2
}

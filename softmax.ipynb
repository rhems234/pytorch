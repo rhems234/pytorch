{
 "cells": [
  {
   "cell_type": "code",
   "execution_count": 1,
   "metadata": {},
   "outputs": [],
   "source": [
    "import torch\n",
    "import torch.nn.functional as F"
   ]
  },
  {
   "cell_type": "code",
   "execution_count": 4,
   "metadata": {},
   "outputs": [
    {
     "name": "stdout",
     "output_type": "stream",
     "text": [
      "tensor([0.0900, 0.2447, 0.6652])\n",
      "tensor(1.)\n"
     ]
    }
   ],
   "source": [
    "z=torch.FloatTensor([1,2,3])\n",
    "y_hat=F.softmax(z, dim=0)\n",
    "print(y_hat)\n",
    "print(y_hat.sum())"
   ]
  },
  {
   "cell_type": "code",
   "execution_count": 9,
   "metadata": {},
   "outputs": [
    {
     "name": "stdout",
     "output_type": "stream",
     "text": [
      "tensor([[0.1509, 0.1093, 0.2410, 0.2325, 0.2663],\n",
      "        [0.1198, 0.2818, 0.2303, 0.2154, 0.1527],\n",
      "        [0.1451, 0.1991, 0.2654, 0.1724, 0.2180]], grad_fn=<SoftmaxBackward0>)\n",
      "tensor([1.0000, 1.0000, 1.0000], grad_fn=<SumBackward1>)\n"
     ]
    }
   ],
   "source": [
    "z=torch.rand(3,5, requires_grad=True)\n",
    "y_hat=F.softmax(z, dim=1)\n",
    "print(y_hat)\n",
    "\n",
    "print(y_hat.sum(dim=1))"
   ]
  },
  {
   "cell_type": "code",
   "execution_count": 14,
   "metadata": {},
   "outputs": [
    {
     "name": "stdout",
     "output_type": "stream",
     "text": [
      "tensor([3, 4, 3])\n",
      "tensor([[0., 0., 0., 1., 0.],\n",
      "        [0., 0., 0., 0., 1.],\n",
      "        [0., 0., 0., 1., 0.]])\n"
     ]
    }
   ],
   "source": [
    "y=torch.randint(5, (3,)).long()\n",
    "print(y)\n",
    "y_one_hot=torch.zeros_like(y_hat)\n",
    "y_one_hot.scatter_(1,y.unsqueeze(1),1)\n",
    "print(y_one_hot)"
   ]
  },
  {
   "cell_type": "code",
   "execution_count": 16,
   "metadata": {},
   "outputs": [
    {
     "name": "stdout",
     "output_type": "stream",
     "text": [
      "tensor([[3],\n",
      "        [4],\n",
      "        [3]])\n"
     ]
    }
   ],
   "source": [
    "print(y.unsqueeze(1))"
   ]
  },
  {
   "cell_type": "code",
   "execution_count": 17,
   "metadata": {},
   "outputs": [],
   "source": [
    "import torch\n",
    "import torch.nn as nn\n",
    "import torch.nn.functional as F\n",
    "import torch.optim as optim"
   ]
  },
  {
   "cell_type": "code",
   "execution_count": 18,
   "metadata": {},
   "outputs": [
    {
     "data": {
      "text/plain": [
       "<torch._C.Generator at 0x213c9efa1b0>"
      ]
     },
     "execution_count": 18,
     "metadata": {},
     "output_type": "execute_result"
    }
   ],
   "source": [
    "torch.manual_seed(1)"
   ]
  },
  {
   "cell_type": "code",
   "execution_count": 20,
   "metadata": {},
   "outputs": [
    {
     "name": "stdout",
     "output_type": "stream",
     "text": [
      "torch.Size([8, 4])\n",
      "torch.Size([8])\n"
     ]
    }
   ],
   "source": [
    "x_data=[[1,2,1,1],[2,1,3,2],[3,1,3,4],[4,1,5,5],[1,7,5,5],[1,2,5,6],[1,6,6,6],[1,7,7,7]]\n",
    "y_data=[2,2,2,1,1,1,0,0]\n",
    "x_train=torch.FloatTensor(x_data)\n",
    "y_train=torch.LongTensor(y_data)\n",
    "print(x_train.shape)\n",
    "print(y_train.shape)"
   ]
  },
  {
   "cell_type": "code",
   "execution_count": 23,
   "metadata": {},
   "outputs": [
    {
     "name": "stdout",
     "output_type": "stream",
     "text": [
      "tensor([[0., 0., 1.],\n",
      "        [0., 0., 1.],\n",
      "        [0., 0., 1.],\n",
      "        [0., 1., 0.],\n",
      "        [0., 1., 0.],\n",
      "        [0., 1., 0.],\n",
      "        [1., 0., 0.],\n",
      "        [1., 0., 0.]])\n"
     ]
    }
   ],
   "source": [
    "y_one_hot=torch.zeros(8,3)\n",
    "y_one_hot.scatter_(1,y_train.unsqueeze(1),1)\n",
    "print(y_one_hot)"
   ]
  },
  {
   "cell_type": "code",
   "execution_count": 24,
   "metadata": {},
   "outputs": [],
   "source": [
    "W=torch.zeros((4,3), requires_grad=True)\n",
    "b=torch.zeros((1,3), requires_grad=True)\n",
    "optimizer=optim.SGD([W, b], lr=0.1)"
   ]
  },
  {
   "cell_type": "code",
   "execution_count": 27,
   "metadata": {},
   "outputs": [
    {
     "name": "stdout",
     "output_type": "stream",
     "text": [
      "Epoch :  0 Cost :  0.03978875279426575\n",
      "Epoch :  100 Cost :  0.039412543177604675\n",
      "Epoch :  200 Cost :  0.039043426513671875\n",
      "Epoch :  300 Cost :  0.03868097439408302\n",
      "Epoch :  400 Cost :  0.038325224071741104\n",
      "Epoch :  500 Cost :  0.03797595947980881\n",
      "Epoch :  600 Cost :  0.03763280808925629\n",
      "Epoch :  700 Cost :  0.03729577362537384\n",
      "Epoch :  800 Cost :  0.03696456551551819\n",
      "Epoch :  900 Cost :  0.03663923218846321\n",
      "Epoch :  1000 Cost :  0.03631956875324249\n",
      "Epoch :  1100 Cost :  0.03600522503256798\n",
      "Epoch :  1200 Cost :  0.03569631651043892\n",
      "Epoch :  1300 Cost :  0.035392582416534424\n",
      "Epoch :  1400 Cost :  0.03509405627846718\n",
      "Epoch :  1500 Cost :  0.03480030223727226\n",
      "Epoch :  1600 Cost :  0.03451148793101311\n",
      "Epoch :  1700 Cost :  0.03422728180885315\n",
      "Epoch :  1800 Cost :  0.03394775837659836\n",
      "Epoch :  1900 Cost :  0.03367269039154053\n",
      "Epoch :  2000 Cost :  0.03340194374322891\n",
      "Epoch :  2100 Cost :  0.03313552588224411\n",
      "Epoch :  2200 Cost :  0.03287333995103836\n",
      "Epoch :  2300 Cost :  0.032615192234516144\n",
      "Epoch :  2400 Cost :  0.03236100450158119\n",
      "Epoch :  2500 Cost :  0.03211076185107231\n",
      "Epoch :  2600 Cost :  0.0318642221391201\n",
      "Epoch :  2700 Cost :  0.031621433794498444\n",
      "Epoch :  2800 Cost :  0.03138237074017525\n",
      "Epoch :  2900 Cost :  0.031146811321377754\n",
      "Epoch :  3000 Cost :  0.03091474249958992\n",
      "Epoch :  3100 Cost :  0.030686035752296448\n",
      "Epoch :  3200 Cost :  0.03046071156859398\n",
      "Epoch :  3300 Cost :  0.030238673090934753\n",
      "Epoch :  3400 Cost :  0.030019763857126236\n",
      "Epoch :  3500 Cost :  0.029804011806845665\n",
      "Epoch :  3600 Cost :  0.02959124930202961\n",
      "Epoch :  3700 Cost :  0.02938155084848404\n",
      "Epoch :  3800 Cost :  0.029174674302339554\n",
      "Epoch :  3900 Cost :  0.02897079847753048\n",
      "Epoch :  4000 Cost :  0.0287695974111557\n",
      "Epoch :  4100 Cost :  0.028571289032697678\n",
      "Epoch :  4200 Cost :  0.028375541791319847\n",
      "Epoch :  4300 Cost :  0.02818255126476288\n",
      "Epoch :  4400 Cost :  0.027992041781544685\n",
      "Epoch :  4500 Cost :  0.027804147452116013\n",
      "Epoch :  4600 Cost :  0.027618730440735817\n",
      "Epoch :  4700 Cost :  0.02743574231863022\n",
      "Epoch :  4800 Cost :  0.027255160734057426\n",
      "Epoch :  4900 Cost :  0.027076881378889084\n",
      "Epoch :  5000 Cost :  0.026900894939899445\n",
      "Epoch :  5100 Cost :  0.026727188378572464\n",
      "Epoch :  5200 Cost :  0.026555698364973068\n",
      "Epoch :  5300 Cost :  0.026386382058262825\n",
      "Epoch :  5400 Cost :  0.026219211518764496\n",
      "Epoch :  5500 Cost :  0.02605409361422062\n",
      "Epoch :  5600 Cost :  0.025890978053212166\n",
      "Epoch :  5700 Cost :  0.0257299542427063\n",
      "Epoch :  5800 Cost :  0.025570930913090706\n",
      "Epoch :  5900 Cost :  0.02541385218501091\n",
      "Epoch :  6000 Cost :  0.02525857277214527\n",
      "Epoch :  6100 Cost :  0.025105247274041176\n",
      "Epoch :  6200 Cost :  0.02495376020669937\n",
      "Epoch :  6300 Cost :  0.024804046377539635\n",
      "Epoch :  6400 Cost :  0.024656107649207115\n",
      "Epoch :  6500 Cost :  0.024509938433766365\n",
      "Epoch :  6600 Cost :  0.024365460500121117\n",
      "Epoch :  6700 Cost :  0.02422267012298107\n",
      "Epoch :  6800 Cost :  0.024081502109766006\n",
      "Epoch :  6900 Cost :  0.02394198440015316\n",
      "Epoch :  7000 Cost :  0.023804062977433205\n",
      "Epoch :  7100 Cost :  0.023667732253670692\n",
      "Epoch :  7200 Cost :  0.023532960563898087\n",
      "Epoch :  7300 Cost :  0.023399583995342255\n",
      "Epoch :  7400 Cost :  0.02326781488955021\n",
      "Epoch :  7500 Cost :  0.023137463256716728\n",
      "Epoch :  7600 Cost :  0.023008575662970543\n",
      "Epoch :  7700 Cost :  0.02288116328418255\n",
      "Epoch :  7800 Cost :  0.022755037993192673\n",
      "Epoch :  7900 Cost :  0.022630328312516212\n",
      "Epoch :  8000 Cost :  0.022506993263959885\n",
      "Epoch :  8100 Cost :  0.022384993731975555\n",
      "Epoch :  8200 Cost :  0.02226431667804718\n",
      "Epoch :  8300 Cost :  0.022144844755530357\n",
      "Epoch :  8400 Cost :  0.022026700899004936\n",
      "Epoch :  8500 Cost :  0.02190978266298771\n",
      "Epoch :  8600 Cost :  0.021794116124510765\n",
      "Epoch :  8700 Cost :  0.02167956903576851\n",
      "Epoch :  8800 Cost :  0.02156633511185646\n",
      "Epoch :  8900 Cost :  0.021454108878970146\n",
      "Epoch :  9000 Cost :  0.021343158558011055\n",
      "Epoch :  9100 Cost :  0.02123335935175419\n",
      "Epoch :  9200 Cost :  0.02112460695207119\n",
      "Epoch :  9300 Cost :  0.021017028018832207\n",
      "Epoch :  9400 Cost :  0.02091045305132866\n",
      "Epoch :  9500 Cost :  0.02080501988530159\n",
      "Epoch :  9600 Cost :  0.02070065774023533\n",
      "Epoch :  9700 Cost :  0.020597252994775772\n",
      "Epoch :  9800 Cost :  0.02049493044614792\n",
      "Epoch :  9900 Cost :  0.02039359323680401\n"
     ]
    }
   ],
   "source": [
    "n_epochs=10000\n",
    "for epoch in range(n_epochs):\n",
    "    y_hat=F.softmax(x_train.matmul(W)+b, dim=1)\n",
    "    cost=(y_one_hot * -torch.log(y_hat)).sum(dim=1).mean()\n",
    "\n",
    "    optimizer.zero_grad()\n",
    "    cost.backward()\n",
    "    optimizer.step()\n",
    "\n",
    "    if epoch%100 == 0:\n",
    "        print('Epoch : ',epoch, 'Cost : ', cost.item())\n"
   ]
  },
  {
   "cell_type": "code",
   "execution_count": 28,
   "metadata": {},
   "outputs": [],
   "source": [
    "model=nn.Linear(4,3)\n",
    "optimizer=optim.SGD(model.parameters(), lr=0.1)\n",
    "n_epochs=10000"
   ]
  },
  {
   "cell_type": "code",
   "execution_count": 30,
   "metadata": {},
   "outputs": [
    {
     "name": "stdout",
     "output_type": "stream",
     "text": [
      "Epoch :  0 Cost :  0.03986620903015137\n",
      "Epoch :  100 Cost :  0.039488691836595535\n",
      "Epoch :  200 Cost :  0.03911803662776947\n",
      "Epoch :  300 Cost :  0.03875427320599556\n",
      "Epoch :  400 Cost :  0.038397204130887985\n",
      "Epoch :  500 Cost :  0.038046516478061676\n",
      "Epoch :  600 Cost :  0.037702158093452454\n",
      "Epoch :  700 Cost :  0.037363916635513306\n",
      "Epoch :  800 Cost :  0.03703158348798752\n",
      "Epoch :  900 Cost :  0.03670510649681091\n",
      "Epoch :  1000 Cost :  0.03638418763875961\n",
      "Epoch :  1100 Cost :  0.03606875613331795\n",
      "Epoch :  1200 Cost :  0.03575872629880905\n",
      "Epoch :  1300 Cost :  0.035454075783491135\n",
      "Epoch :  1400 Cost :  0.03515426442027092\n",
      "Epoch :  1500 Cost :  0.03485958278179169\n",
      "Epoch :  1600 Cost :  0.03456980362534523\n",
      "Epoch :  1700 Cost :  0.03428470343351364\n",
      "Epoch :  1800 Cost :  0.034004174172878265\n",
      "Epoch :  1900 Cost :  0.03372815623879433\n",
      "Epoch :  2000 Cost :  0.03345663473010063\n",
      "Epoch :  2100 Cost :  0.03318936377763748\n",
      "Epoch :  2200 Cost :  0.032926201820373535\n",
      "Epoch :  2300 Cost :  0.03266727179288864\n",
      "Epoch :  2400 Cost :  0.032412271946668625\n",
      "Epoch :  2500 Cost :  0.03216124325990677\n",
      "Epoch :  2600 Cost :  0.03191402181982994\n",
      "Epoch :  2700 Cost :  0.03167051449418068\n",
      "Epoch :  2800 Cost :  0.031430575996637344\n",
      "Epoch :  2900 Cost :  0.031194334849715233\n",
      "Epoch :  3000 Cost :  0.030961541458964348\n",
      "Epoch :  3100 Cost :  0.03073214180767536\n",
      "Epoch :  3200 Cost :  0.030506137758493423\n",
      "Epoch :  3300 Cost :  0.030283454805612564\n",
      "Epoch :  3400 Cost :  0.03006383217871189\n",
      "Epoch :  3500 Cost :  0.029847433790564537\n",
      "Epoch :  3600 Cost :  0.02963411435484886\n",
      "Epoch :  3700 Cost :  0.029423758387565613\n",
      "Epoch :  3800 Cost :  0.02921634539961815\n",
      "Epoch :  3900 Cost :  0.02901179902255535\n",
      "Epoch :  4000 Cost :  0.028810128569602966\n",
      "Epoch :  4100 Cost :  0.02861117757856846\n",
      "Epoch :  4200 Cost :  0.028414970263838768\n",
      "Epoch :  4300 Cost :  0.028221407905220985\n",
      "Epoch :  4400 Cost :  0.028030382469296455\n",
      "Epoch :  4500 Cost :  0.027841946110129356\n",
      "Epoch :  4600 Cost :  0.02765602059662342\n",
      "Epoch :  4700 Cost :  0.027472520247101784\n",
      "Epoch :  4800 Cost :  0.027291446924209595\n",
      "Epoch :  4900 Cost :  0.027112720534205437\n",
      "Epoch :  5000 Cost :  0.02693626470863819\n",
      "Epoch :  5100 Cost :  0.0267620999366045\n",
      "Epoch :  5200 Cost :  0.026590200141072273\n",
      "Epoch :  5300 Cost :  0.026420459151268005\n",
      "Epoch :  5400 Cost :  0.02625272236764431\n",
      "Epoch :  5500 Cost :  0.02608727291226387\n",
      "Epoch :  5600 Cost :  0.025923797860741615\n",
      "Epoch :  5700 Cost :  0.025762304663658142\n",
      "Epoch :  5800 Cost :  0.025602858513593674\n",
      "Epoch :  5900 Cost :  0.02544538490474224\n",
      "Epoch :  6000 Cost :  0.0252897497266531\n",
      "Epoch :  6100 Cost :  0.02513599395751953\n",
      "Epoch :  6200 Cost :  0.024984152987599373\n",
      "Epoch :  6300 Cost :  0.02483407035470009\n",
      "Epoch :  6400 Cost :  0.0246858149766922\n",
      "Epoch :  6500 Cost :  0.024539263918995857\n",
      "Epoch :  6600 Cost :  0.02439446561038494\n",
      "Epoch :  6700 Cost :  0.024251295253634453\n",
      "Epoch :  6800 Cost :  0.02410987950861454\n",
      "Epoch :  6900 Cost :  0.023970002308487892\n",
      "Epoch :  7000 Cost :  0.023831717669963837\n",
      "Epoch :  7100 Cost :  0.023695051670074463\n",
      "Epoch :  7200 Cost :  0.023559939116239548\n",
      "Epoch :  7300 Cost :  0.02342623472213745\n",
      "Epoch :  7400 Cost :  0.02329421229660511\n",
      "Epoch :  7500 Cost :  0.023163627833127975\n",
      "Epoch :  7600 Cost :  0.023034382611513138\n",
      "Epoch :  7700 Cost :  0.022906651720404625\n",
      "Epoch :  7800 Cost :  0.022780291736125946\n",
      "Epoch :  7900 Cost :  0.022655287757515907\n",
      "Epoch :  8000 Cost :  0.022531740367412567\n",
      "Epoch :  8100 Cost :  0.022409435361623764\n",
      "Epoch :  8200 Cost :  0.022288445383310318\n",
      "Epoch :  8300 Cost :  0.022168800234794617\n",
      "Epoch :  8400 Cost :  0.02205032669007778\n",
      "Epoch :  8500 Cost :  0.021933171898126602\n",
      "Epoch :  8600 Cost :  0.021817218512296677\n",
      "Epoch :  8700 Cost :  0.021702468395233154\n",
      "Epoch :  8800 Cost :  0.021588925272226334\n",
      "Epoch :  8900 Cost :  0.02147659659385681\n",
      "Epoch :  9000 Cost :  0.021365374326705933\n",
      "Epoch :  9100 Cost :  0.021255359053611755\n",
      "Epoch :  9200 Cost :  0.021146388724446297\n",
      "Epoch :  9300 Cost :  0.021038539707660675\n",
      "Epoch :  9400 Cost :  0.020931769162416458\n",
      "Epoch :  9500 Cost :  0.020826103165745735\n",
      "Epoch :  9600 Cost :  0.02072150819003582\n",
      "Epoch :  9700 Cost :  0.020617889240384102\n",
      "Epoch :  9800 Cost :  0.020515363663434982\n",
      "Epoch :  9900 Cost :  0.020413804799318314\n"
     ]
    }
   ],
   "source": [
    "for epoch in range(n_epochs):\n",
    "    y_hat=model(x_train)\n",
    "    cost=F.cross_entropy(y_hat, y_train)\n",
    "\n",
    "    optimizer.zero_grad()\n",
    "    cost.backward()\n",
    "    optimizer.step()\n",
    "\n",
    "    if epoch % 100 == 0:\n",
    "        print('Epoch : ',epoch, 'Cost : ',cost.item())"
   ]
  },
  {
   "cell_type": "code",
   "execution_count": 32,
   "metadata": {},
   "outputs": [
    {
     "name": "stdout",
     "output_type": "stream",
     "text": [
      "tensor([[-13.8962,  -0.0880,  14.2799],\n",
      "        [ -4.5370,   0.2184,   4.8439],\n",
      "        [-22.3918,   9.9873,  13.8135],\n",
      "        [-14.7454,  10.1718,   6.2298],\n",
      "        [  0.7467,   3.9789,  -2.5304],\n",
      "        [  4.6776,   8.5618, -10.6200],\n",
      "        [  8.2611,   5.2696, -10.9009],\n",
      "        [ 12.3500,   6.3167, -15.5665]], grad_fn=<AddmmBackward0>)\n"
     ]
    }
   ],
   "source": [
    "prodiction = model(x_train)\n",
    "print(prodiction)"
   ]
  },
  {
   "cell_type": "code",
   "execution_count": 33,
   "metadata": {},
   "outputs": [],
   "source": [
    "class SoftmaxClassModel(nn.Module):\n",
    "    def __init__(self):\n",
    "        super().__init__()\n",
    "        self.linear=nn.Linear(4,3)\n",
    "\n",
    "    def forward(self, x):\n",
    "        return self.linear(x)"
   ]
  },
  {
   "cell_type": "code",
   "execution_count": 34,
   "metadata": {},
   "outputs": [],
   "source": [
    "model=SoftmaxClassModel()\n",
    "optimizer=optim.SGD(model.parameters(), lr=0.1)\n",
    "n_epochs=10000"
   ]
  },
  {
   "cell_type": "code",
   "execution_count": 35,
   "metadata": {},
   "outputs": [
    {
     "name": "stdout",
     "output_type": "stream",
     "text": [
      "Epoch :  0 Cost :  2.637636423110962\n",
      "Epoch :  100 Cost :  0.6479030251502991\n",
      "Epoch :  200 Cost :  0.5646426677703857\n",
      "Epoch :  300 Cost :  0.5110434293746948\n",
      "Epoch :  400 Cost :  0.4672488868236542\n",
      "Epoch :  500 Cost :  0.4282805621623993\n",
      "Epoch :  600 Cost :  0.391924113035202\n",
      "Epoch :  700 Cost :  0.35674208402633667\n",
      "Epoch :  800 Cost :  0.32157716155052185\n",
      "Epoch :  900 Cost :  0.28561723232269287\n",
      "Epoch :  1000 Cost :  0.2508176863193512\n",
      "Epoch :  1100 Cost :  0.23210185766220093\n",
      "Epoch :  1200 Cost :  0.22086557745933533\n",
      "Epoch :  1300 Cost :  0.21063703298568726\n",
      "Epoch :  1400 Cost :  0.20127873122692108\n",
      "Epoch :  1500 Cost :  0.19268494844436646\n",
      "Epoch :  1600 Cost :  0.18476678431034088\n",
      "Epoch :  1700 Cost :  0.17744912207126617\n",
      "Epoch :  1800 Cost :  0.17066752910614014\n",
      "Epoch :  1900 Cost :  0.16436627507209778\n",
      "Epoch :  2000 Cost :  0.1584969311952591\n",
      "Epoch :  2100 Cost :  0.1530178040266037\n",
      "Epoch :  2200 Cost :  0.14789187908172607\n",
      "Epoch :  2300 Cost :  0.14308682084083557\n",
      "Epoch :  2400 Cost :  0.13857412338256836\n",
      "Epoch :  2500 Cost :  0.13432839512825012\n",
      "Epoch :  2600 Cost :  0.130327045917511\n",
      "Epoch :  2700 Cost :  0.12655004858970642\n",
      "Epoch :  2800 Cost :  0.122979536652565\n",
      "Epoch :  2900 Cost :  0.11959897726774216\n",
      "Epoch :  3000 Cost :  0.11639437079429626\n",
      "Epoch :  3100 Cost :  0.11335216462612152\n",
      "Epoch :  3200 Cost :  0.11046060919761658\n",
      "Epoch :  3300 Cost :  0.10770916938781738\n",
      "Epoch :  3400 Cost :  0.10508791357278824\n",
      "Epoch :  3500 Cost :  0.10258817672729492\n",
      "Epoch :  3600 Cost :  0.10020141303539276\n",
      "Epoch :  3700 Cost :  0.09792064875364304\n",
      "Epoch :  3800 Cost :  0.09573902189731598\n",
      "Epoch :  3900 Cost :  0.09365029633045197\n",
      "Epoch :  4000 Cost :  0.09164856374263763\n",
      "Epoch :  4100 Cost :  0.08972857892513275\n",
      "Epoch :  4200 Cost :  0.0878857672214508\n",
      "Epoch :  4300 Cost :  0.08611556887626648\n",
      "Epoch :  4400 Cost :  0.08441359549760818\n",
      "Epoch :  4500 Cost :  0.08277644962072372\n",
      "Epoch :  4600 Cost :  0.08120007067918777\n",
      "Epoch :  4700 Cost :  0.07968148589134216\n",
      "Epoch :  4800 Cost :  0.07821754366159439\n",
      "Epoch :  4900 Cost :  0.07680539786815643\n",
      "Epoch :  5000 Cost :  0.07544229179620743\n",
      "Epoch :  5100 Cost :  0.07412579655647278\n",
      "Epoch :  5200 Cost :  0.072853684425354\n",
      "Epoch :  5300 Cost :  0.07162366062402725\n",
      "Epoch :  5400 Cost :  0.0704335868358612\n",
      "Epoch :  5500 Cost :  0.06928189843893051\n",
      "Epoch :  5600 Cost :  0.06816653907299042\n",
      "Epoch :  5700 Cost :  0.06708591431379318\n",
      "Epoch :  5800 Cost :  0.06603838503360748\n",
      "Epoch :  5900 Cost :  0.06502257287502289\n",
      "Epoch :  6000 Cost :  0.06403695791959763\n",
      "Epoch :  6100 Cost :  0.06308039277791977\n",
      "Epoch :  6200 Cost :  0.062151458114385605\n",
      "Epoch :  6300 Cost :  0.06124911457300186\n",
      "Epoch :  6400 Cost :  0.06037202477455139\n",
      "Epoch :  6500 Cost :  0.05951935425400734\n",
      "Epoch :  6600 Cost :  0.058690063655376434\n",
      "Epoch :  6700 Cost :  0.05788328871130943\n",
      "Epoch :  6800 Cost :  0.05709792301058769\n",
      "Epoch :  6900 Cost :  0.056333426386117935\n",
      "Epoch :  7000 Cost :  0.0555887445807457\n",
      "Epoch :  7100 Cost :  0.054863136261701584\n",
      "Epoch :  7200 Cost :  0.05415606498718262\n",
      "Epoch :  7300 Cost :  0.053466714918613434\n",
      "Epoch :  7400 Cost :  0.052794475108385086\n",
      "Epoch :  7500 Cost :  0.052138619124889374\n",
      "Epoch :  7600 Cost :  0.05149870738387108\n",
      "Epoch :  7700 Cost :  0.050874013453722\n",
      "Epoch :  7800 Cost :  0.05026412755250931\n",
      "Epoch :  7900 Cost :  0.04966845363378525\n",
      "Epoch :  8000 Cost :  0.049086619168519974\n",
      "Epoch :  8100 Cost :  0.0485181026160717\n",
      "Epoch :  8200 Cost :  0.04796237498521805\n",
      "Epoch :  8300 Cost :  0.047419045120477676\n",
      "Epoch :  8400 Cost :  0.04688774794340134\n",
      "Epoch :  8500 Cost :  0.04636809974908829\n",
      "Epoch :  8600 Cost :  0.04585971310734749\n",
      "Epoch :  8700 Cost :  0.04536217078566551\n",
      "Epoch :  8800 Cost :  0.04487523064017296\n",
      "Epoch :  8900 Cost :  0.04439845308661461\n",
      "Epoch :  9000 Cost :  0.04393162578344345\n",
      "Epoch :  9100 Cost :  0.04347435384988785\n",
      "Epoch :  9200 Cost :  0.043026480823755264\n",
      "Epoch :  9300 Cost :  0.04258757829666138\n",
      "Epoch :  9400 Cost :  0.04215735197067261\n",
      "Epoch :  9500 Cost :  0.041735757142305374\n",
      "Epoch :  9600 Cost :  0.04132235050201416\n",
      "Epoch :  9700 Cost :  0.040917038917541504\n",
      "Epoch :  9800 Cost :  0.04051932692527771\n",
      "Epoch :  9900 Cost :  0.04012938216328621\n"
     ]
    }
   ],
   "source": [
    "for epoch in range(n_epochs):\n",
    "    y_hat=model(x_train)\n",
    "    cost=F.cross_entropy(y_hat, y_train)\n",
    "\n",
    "    optimizer.zero_grad()\n",
    "    cost.backward()\n",
    "    optimizer.step()\n",
    "\n",
    "    if epoch % 100 == 0:\n",
    "        print('Epoch : ',epoch, \"Cost : \",cost.item())"
   ]
  },
  {
   "cell_type": "code",
   "execution_count": 36,
   "metadata": {},
   "outputs": [
    {
     "name": "stdout",
     "output_type": "stream",
     "text": [
      "tensor([[-11.5036,  -0.2332,  11.5479],\n",
      "        [ -4.5121,   0.3314,   4.2517],\n",
      "        [-18.6580,   8.3967,  11.5297],\n",
      "        [-13.0537,   8.7771,   5.5310],\n",
      "        [  0.2068,   2.7514,  -3.0321],\n",
      "        [  3.6674,   6.8846,  -8.6047],\n",
      "        [  6.2557,   3.9119,  -9.5963],\n",
      "        [  9.5301,   4.7041, -13.5656]], grad_fn=<AddmmBackward0>)\n"
     ]
    }
   ],
   "source": [
    "prediction=model(x_train)\n",
    "print(prediction)"
   ]
  }
 ],
 "metadata": {
  "kernelspec": {
   "display_name": "base",
   "language": "python",
   "name": "python3"
  },
  "language_info": {
   "codemirror_mode": {
    "name": "ipython",
    "version": 3
   },
   "file_extension": ".py",
   "mimetype": "text/x-python",
   "name": "python",
   "nbconvert_exporter": "python",
   "pygments_lexer": "ipython3",
   "version": "3.10.9"
  },
  "orig_nbformat": 4
 },
 "nbformat": 4,
 "nbformat_minor": 2
}
